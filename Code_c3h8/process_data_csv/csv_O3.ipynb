{
 "cells": [
  {
   "cell_type": "code",
   "execution_count": 1,
   "metadata": {},
   "outputs": [],
   "source": [
    "import pandas as pd\n",
    "import datetime\n",
    "import matplotlib.pyplot as plt\n",
    "import matplotlib.dates as mdates\n",
    "from matplotlib.pyplot import figure\n",
    "import glob\n",
    "import os\n",
    "import metpy\n",
    "import metpy.calc as mpcalc\n",
    "from metpy.units import units\n",
    "import numpy as np\n",
    "from datetime import datetime\n",
    "import xarray as xr\n",
    "from pint import UnitRegistry\n",
    "ureg = UnitRegistry()\n",
    "import seaborn as sns\n",
    "from scipy import stats\n",
    "from scipy.stats import f_oneway\n",
    "import statsmodels.api as sm\n",
    "from scipy.stats import t"
   ]
  },
  {
   "cell_type": "code",
   "execution_count": 2,
   "metadata": {},
   "outputs": [],
   "source": [
    "# Function to extract epoch from the first few rows of the CSV file\n",
    "def extract_epoch_from_header(file):\n",
    "    # Read the first few lines to find the epoch (assuming it's in a comment or a header)\n",
    "    with open(file, 'r') as f:\n",
    "        skiprow = f.readline()\n",
    "        skiprow = skiprow.strip().split()[0]\n",
    "        for line in f:\n",
    "            if \"startdate:\" in line.lower():  # Assuming the word 'epoch' is present in the line\n",
    "                # Extract the epoch date (this assumes the date is the second item in the line)\n",
    "                epoch = line.strip().split()[1]\n",
    "                return int(skiprow)-1, epoch[0:4]+\"-\"+epoch[4:6]+\"-\"+epoch[6:8]+\" \"+epoch[8:10]+\":\"+epoch[10:12]+\":\"+epoch[12:14]\n",
    "    return None  # Return None if no epoch is found\n",
    "\n",
    "# Function to load and adjust time for each CSV\n",
    "def load_and_adjust_time(file):\n",
    "    # Try to extract the epoch from the header or a specific column\n",
    "    nskiprows,epoch = extract_epoch_from_header(file)\n",
    "   \n",
    "    if epoch is None:\n",
    "        raise ValueError(f\"Could not find epoch for file: {file}\")\n",
    "   \n",
    "    # Load the actual data (skipping header if necessary)\n",
    "    df = pd.read_csv(file, skiprows=nskiprows,sep=\"\\\\s+\")  # Adjust skiprows based on where the data starts\n",
    "   \n",
    "    # Convert 'time' column to a datetime, assuming it's in days\n",
    "    # Adjust time column to start from the epoch time found in the file\n",
    "    df['starttime_dt'] = pd.to_timedelta(df['starttime'], unit='D') + pd.Timestamp(epoch)\n",
    "   \n",
    "    # Return the adjusted DataFrame\n",
    "    return df"
   ]
  },
  {
   "cell_type": "code",
   "execution_count": 3,
   "metadata": {},
   "outputs": [
    {
     "name": "stdout",
     "output_type": "stream",
     "text": [
      "['C:\\\\Year1\\\\NMVOC\\\\Data\\\\data_Ebas_O3\\\\IT0009R.20110101000000.20191219000000.uv_abs.ozone.air.1y.1h.IT06L_1108.IT06L_49i_uvab.lev2.nas', 'C:\\\\Year1\\\\NMVOC\\\\Data\\\\data_Ebas_O3\\\\IT0009R.20111231230000.20200103115322.uv_abs.ozone.air.1y.1h.IT06L_CMN_49i_1225011092.IT06L_49i_uvab.lev2.nas', 'C:\\\\Year1\\\\NMVOC\\\\Data\\\\data_Ebas_O3\\\\IT0009R.20121231230000.20200103115322.uv_abs.ozone.air.1y.1h.IT06L_CMN_49i_1225011092.IT06L_49i_uvab.lev2.nas', 'C:\\\\Year1\\\\NMVOC\\\\Data\\\\data_Ebas_O3\\\\IT0009R.20131231230000.20200103115322.uv_abs.ozone.air.1y.1h.IT06L_CMN_49i_1225011092.IT06L_49i_uvab.lev2.nas', 'C:\\\\Year1\\\\NMVOC\\\\Data\\\\data_Ebas_O3\\\\IT0009R.20141231230000.20191217000000.uv_abs.ozone.air.1y.1h.IT06L_CMN_49i_1225011092.IT06L_49i_uvab.lev2.nas', 'C:\\\\Year1\\\\NMVOC\\\\Data\\\\data_Ebas_O3\\\\IT0009R.20160101000000.20181112095709.uv_abs.ozone.air.1y.1h.IT06L_CMN_49i_1225011092.IT06L_49i_uvab.lev2.nas', 'C:\\\\Year1\\\\NMVOC\\\\Data\\\\data_Ebas_O3\\\\IT0009R.20170101000000.20180311002000.uv_abs.ozone.air.1y.1h.IT06L_CMN_49i_1225011092.IT06L_49i_uvab.lev2.nas', 'C:\\\\Year1\\\\NMVOC\\\\Data\\\\data_Ebas_O3\\\\IT0009R.20180101000000.20210322142118.uv_abs.ozone.air.1y.1h.IT06L_CMN_49i_1225011092.IT06L_49i_uvab.lev2.nas', 'C:\\\\Year1\\\\NMVOC\\\\Data\\\\data_Ebas_O3\\\\IT0009R.20190101000000.20210322142118.uv_abs.ozone.air.1y.1h.IT06L_CMN_49i_1225011092.IT06L_49i_uvab.lev2.nas', 'C:\\\\Year1\\\\NMVOC\\\\Data\\\\data_Ebas_O3\\\\IT0009R.20200101000000.20210210012300.uv_abs.ozone.air.1y.1h.IT06L_CMN_49i_1225011092.IT06L_49i_uvab.lev2.nas', 'C:\\\\Year1\\\\NMVOC\\\\Data\\\\data_Ebas_O3\\\\IT0009R.20210101000000.20240202120838.uv_abs.ozone.air.1y.1h.IT06L_CMN_49i_1225011092.IT06L_49i_uvab.lev2.nas', 'C:\\\\Year1\\\\NMVOC\\\\Data\\\\data_Ebas_O3\\\\IT0009R.20220101000000.20230327134200.uv_abs.ozone.air.1y.1h.IT06L_CMN_49i_1225011092.IT06L_49i_uvab.lev2.nas', 'C:\\\\Year1\\\\NMVOC\\\\Data\\\\data_Ebas_O3\\\\IT0009R.20220712000000.20240202120838.uv_abs.ozone.air.8d.1h.IT06L_CMN_49i_1225011092.IT06L_49i_uvab_IMP_2022.lev2.nas', 'C:\\\\Year1\\\\NMVOC\\\\Data\\\\data_Ebas_O3\\\\IT0009R.20230101000000.20240315113600.uv_abs.ozone.air.1y.1h.IT06L_49i_1182780003.IT06L_49i_uvab.lev2.nas']\n",
      "         starttime     endtime     O3  O3.1   O3.2  O3.3  flag  \\\n",
      "0         0.000000    0.041667  92.18  46.2   1.60   0.8   0.0   \n",
      "1         0.041667    0.083333  91.99  46.1   1.40   0.7   0.0   \n",
      "2         0.083333    0.125000  92.38  46.3   1.40   0.7   0.0   \n",
      "3         0.125000    0.166667  91.19  45.7   1.20   0.6   0.0   \n",
      "4         0.166667    0.208333  90.99  45.6   1.00   0.5   0.0   \n",
      "...            ...         ...    ...   ...    ...   ...   ...   \n",
      "114086  363.833333  363.875000  84.40  42.3  86.60  43.4   0.0   \n",
      "114087  363.875000  363.916667  83.60  41.9  85.60  42.9   0.0   \n",
      "114088  363.916667  363.958333  84.20  42.2  86.20  43.2   0.0   \n",
      "114089  363.958333  364.000000  84.60  42.4  88.59  44.4   0.0   \n",
      "114090  364.000000  364.041667  84.00  42.1  86.60  43.4   0.0   \n",
      "\n",
      "                     starttime_dt   O3.4  O3.5  O3.6  O3.7  \n",
      "0      2011-01-01 00:00:00.000000    NaN   NaN   NaN   NaN  \n",
      "1      2011-01-01 01:00:00.028800    NaN   NaN   NaN   NaN  \n",
      "2      2011-01-01 01:59:59.971200    NaN   NaN   NaN   NaN  \n",
      "3      2011-01-01 03:00:00.000000    NaN   NaN   NaN   NaN  \n",
      "4      2011-01-01 04:00:00.028800    NaN   NaN   NaN   NaN  \n",
      "...                           ...    ...   ...   ...   ...  \n",
      "114086 2023-12-30 19:59:59.971200  82.21  41.2   1.0   0.5  \n",
      "114087 2023-12-30 21:00:00.000000  82.01  41.1   1.0   0.5  \n",
      "114088 2023-12-30 22:00:00.028800  82.01  41.1   1.2   0.6  \n",
      "114089 2023-12-30 22:59:59.971200  81.21  40.7   1.4   0.7  \n",
      "114090 2023-12-31 00:00:00.000000  80.41  40.3   1.6   0.8  \n",
      "\n",
      "[114091 rows x 12 columns]\n"
     ]
    }
   ],
   "source": [
    "#set a working directory till NMVOC folder\n",
    "working_dir = \"C:\\\\Year1\\\\\"\n",
    "# Find all CSV files (change the path if nedeed)\n",
    "o3_files = glob.glob(working_dir+\"NMVOC\\\\Data\\\\data_Ebas_O3\\\\*.nas\")\n",
    "print(o3_files)\n",
    "\n",
    "# this function reads apropadjust times for all CSV files\n",
    "dfs = []\n",
    "for file in o3_files:\n",
    "    df = load_and_adjust_time(file)\n",
    "    dfs.append(df)\n",
    "\n",
    "# concatenates all DataFrames (based on time)\n",
    "#o3_df = pd.concat(dfs,axis=0,ignore_index=True)\n",
    "o3_df=pd.concat(dfs).sort_values('starttime_dt').reset_index(drop=True)\n",
    "\n",
    "# Show combined DataFrame\n",
    "print(o3_df)"
   ]
  },
  {
   "cell_type": "code",
   "execution_count": 4,
   "metadata": {},
   "outputs": [
    {
     "data": {
      "text/plain": [
       "<Axes: >"
      ]
     },
     "execution_count": 4,
     "metadata": {},
     "output_type": "execute_result"
    },
    {
     "data": {
      "image/png": "[encoded data removed]",
      "text/plain": [
       "<Figure size 640x480 with 1 Axes>"
      ]
     },
     "metadata": {},
     "output_type": "display_data"
    }
   ],
   "source": [
    "\n",
    "#verify the time column\n",
    "o3_df[\"starttime\"].plot()"
   ]
  },
  {
   "cell_type": "code",
   "execution_count": 60,
   "metadata": {},
   "outputs": [
    {
     "data": {
      "text/html": [
       "<div>\n",
       "<style scoped>\n",
       "    .dataframe tbody tr th:only-of-type {\n",
       "        vertical-align: middle;\n",
       "    }\n",
       "\n",
       "    .dataframe tbody tr th {\n",
       "        vertical-align: top;\n",
       "    }\n",
       "\n",
       "    .dataframe thead th {\n",
       "        text-align: right;\n",
       "    }\n",
       "</style>\n",
       "<table border=\"1\" class=\"dataframe\">\n",
       "  <thead>\n",
       "    <tr style=\"text-align: right;\">\n",
       "      <th></th>\n",
       "      <th>starttime_dt</th>\n",
       "      <th>O3_ppb</th>\n",
       "    </tr>\n",
       "    <tr>\n",
       "      <th>starttime_dt</th>\n",
       "      <th></th>\n",
       "      <th></th>\n",
       "    </tr>\n",
       "  </thead>\n",
       "  <tbody>\n",
       "    <tr>\n",
       "      <th>2011-01-01 00:00:00.000000</th>\n",
       "      <td>2011-01-01 00:00:00.000000</td>\n",
       "      <td>46.2</td>\n",
       "    </tr>\n",
       "    <tr>\n",
       "      <th>2011-01-01 01:00:00.028800</th>\n",
       "      <td>2011-01-01 01:00:00.028800</td>\n",
       "      <td>46.1</td>\n",
       "    </tr>\n",
       "    <tr>\n",
       "      <th>2011-01-01 01:59:59.971200</th>\n",
       "      <td>2011-01-01 01:59:59.971200</td>\n",
       "      <td>46.3</td>\n",
       "    </tr>\n",
       "    <tr>\n",
       "      <th>2011-01-01 03:00:00.000000</th>\n",
       "      <td>2011-01-01 03:00:00.000000</td>\n",
       "      <td>45.7</td>\n",
       "    </tr>\n",
       "    <tr>\n",
       "      <th>2011-01-01 04:00:00.028800</th>\n",
       "      <td>2011-01-01 04:00:00.028800</td>\n",
       "      <td>45.6</td>\n",
       "    </tr>\n",
       "    <tr>\n",
       "      <th>...</th>\n",
       "      <td>...</td>\n",
       "      <td>...</td>\n",
       "    </tr>\n",
       "    <tr>\n",
       "      <th>2023-12-30 19:59:59.971200</th>\n",
       "      <td>2023-12-30 19:59:59.971200</td>\n",
       "      <td>42.3</td>\n",
       "    </tr>\n",
       "    <tr>\n",
       "      <th>2023-12-30 21:00:00.000000</th>\n",
       "      <td>2023-12-30 21:00:00.000000</td>\n",
       "      <td>41.9</td>\n",
       "    </tr>\n",
       "    <tr>\n",
       "      <th>2023-12-30 22:00:00.028800</th>\n",
       "      <td>2023-12-30 22:00:00.028800</td>\n",
       "      <td>42.2</td>\n",
       "    </tr>\n",
       "    <tr>\n",
       "      <th>2023-12-30 22:59:59.971200</th>\n",
       "      <td>2023-12-30 22:59:59.971200</td>\n",
       "      <td>42.4</td>\n",
       "    </tr>\n",
       "    <tr>\n",
       "      <th>2023-12-31 00:00:00.000000</th>\n",
       "      <td>2023-12-31 00:00:00.000000</td>\n",
       "      <td>42.1</td>\n",
       "    </tr>\n",
       "  </tbody>\n",
       "</table>\n",
       "<p>108043 rows × 2 columns</p>\n",
       "</div>"
      ],
      "text/plain": [
       "                                         starttime_dt  O3_ppb\n",
       "starttime_dt                                                 \n",
       "2011-01-01 00:00:00.000000 2011-01-01 00:00:00.000000    46.2\n",
       "2011-01-01 01:00:00.028800 2011-01-01 01:00:00.028800    46.1\n",
       "2011-01-01 01:59:59.971200 2011-01-01 01:59:59.971200    46.3\n",
       "2011-01-01 03:00:00.000000 2011-01-01 03:00:00.000000    45.7\n",
       "2011-01-01 04:00:00.028800 2011-01-01 04:00:00.028800    45.6\n",
       "...                                               ...     ...\n",
       "2023-12-30 19:59:59.971200 2023-12-30 19:59:59.971200    42.3\n",
       "2023-12-30 21:00:00.000000 2023-12-30 21:00:00.000000    41.9\n",
       "2023-12-30 22:00:00.028800 2023-12-30 22:00:00.028800    42.2\n",
       "2023-12-30 22:59:59.971200 2023-12-30 22:59:59.971200    42.4\n",
       "2023-12-31 00:00:00.000000 2023-12-31 00:00:00.000000    42.1\n",
       "\n",
       "[108043 rows x 2 columns]"
      ]
     },
     "execution_count": 60,
     "metadata": {},
     "output_type": "execute_result"
    }
   ],
   "source": [
    "#o3 [nmol/mol]\n",
    "#remove lines depending on flags\n",
    "o3_df = o3_df[o3_df.flag != 0.999]\n",
    "o3_df = o3_df[o3_df.flag != 0.899]\n",
    "o3_df = o3_df[o3_df.flag != 0.456]\n",
    "o3_df = o3_df[o3_df.flag != 0.260]\n",
    "o3_df = o3_df[o3_df.flag != 0.259]\n",
    "o3_df = o3_df[o3_df.flag != 9.999]\n",
    "o3_df = o3_df[o3_df['O3.1'] != 999.9]\n",
    "o3_df = o3_df[o3_df.O3 != 999.99]\n",
    "\n",
    "o3_df.index = o3_df[\"starttime_dt\"]\n",
    "#remove useless columns\n",
    "o3_df = o3_df.drop(columns=[\"flag\"])\n",
    "o3_df = o3_df.drop(columns=[\"starttime\"])\n",
    "o3_df = o3_df.drop(columns=[\"endtime\"])\n",
    "o3_df = o3_df.drop(columns=[\"O3\"])\n",
    "o3_df = o3_df.drop(columns=[\"O3.2\"])\n",
    "o3_df = o3_df.drop(columns=[\"O3.3\"])\n",
    "o3_df = o3_df.drop(columns=[\"O3.4\"])\n",
    "o3_df = o3_df.drop(columns=[\"O3.5\"])\n",
    "o3_df = o3_df.drop(columns=[\"O3.6\"])\n",
    "o3_df = o3_df.drop(columns=[\"O3.7\"])\n",
    "#df = df.drop(columns=[\"starttime_dt\"])\n",
    "o3_df['O3_ppb']=o3_df['O3.1']\n",
    "o3_df = o3_df.drop(columns=[\"O3.1\"])\n",
    "o3_df"
   ]
  },
  {
   "cell_type": "code",
   "execution_count": 61,
   "metadata": {},
   "outputs": [
    {
     "data": {
      "text/plain": [
       "starttime_dt    2023-12-31 00:00:00\n",
       "O3_ppb                        103.3\n",
       "dtype: object"
      ]
     },
     "execution_count": 61,
     "metadata": {},
     "output_type": "execute_result"
    }
   ],
   "source": [
    "o3_df.max()"
   ]
  },
  {
   "cell_type": "code",
   "execution_count": 62,
   "metadata": {},
   "outputs": [
    {
     "data": {
      "text/html": [
       "<div>\n",
       "<style scoped>\n",
       "    .dataframe tbody tr th:only-of-type {\n",
       "        vertical-align: middle;\n",
       "    }\n",
       "\n",
       "    .dataframe tbody tr th {\n",
       "        vertical-align: top;\n",
       "    }\n",
       "\n",
       "    .dataframe thead th {\n",
       "        text-align: right;\n",
       "    }\n",
       "</style>\n",
       "<table border=\"1\" class=\"dataframe\">\n",
       "  <thead>\n",
       "    <tr style=\"text-align: right;\">\n",
       "      <th></th>\n",
       "      <th>O3_ppb</th>\n",
       "      <th>datetime</th>\n",
       "    </tr>\n",
       "    <tr>\n",
       "      <th>datetime</th>\n",
       "      <th></th>\n",
       "      <th></th>\n",
       "    </tr>\n",
       "  </thead>\n",
       "  <tbody>\n",
       "    <tr>\n",
       "      <th>2011-01-01 00:00:00</th>\n",
       "      <td>46.2</td>\n",
       "      <td>2011-01-01 00:00:00</td>\n",
       "    </tr>\n",
       "    <tr>\n",
       "      <th>2011-01-01 01:00:00</th>\n",
       "      <td>46.1</td>\n",
       "      <td>2011-01-01 01:00:00</td>\n",
       "    </tr>\n",
       "    <tr>\n",
       "      <th>2011-01-01 02:00:00</th>\n",
       "      <td>46.3</td>\n",
       "      <td>2011-01-01 02:00:00</td>\n",
       "    </tr>\n",
       "    <tr>\n",
       "      <th>2011-01-01 03:00:00</th>\n",
       "      <td>45.7</td>\n",
       "      <td>2011-01-01 03:00:00</td>\n",
       "    </tr>\n",
       "    <tr>\n",
       "      <th>2011-01-01 04:00:00</th>\n",
       "      <td>45.6</td>\n",
       "      <td>2011-01-01 04:00:00</td>\n",
       "    </tr>\n",
       "    <tr>\n",
       "      <th>...</th>\n",
       "      <td>...</td>\n",
       "      <td>...</td>\n",
       "    </tr>\n",
       "    <tr>\n",
       "      <th>2023-12-30 20:00:00</th>\n",
       "      <td>42.3</td>\n",
       "      <td>2023-12-30 20:00:00</td>\n",
       "    </tr>\n",
       "    <tr>\n",
       "      <th>2023-12-30 21:00:00</th>\n",
       "      <td>41.9</td>\n",
       "      <td>2023-12-30 21:00:00</td>\n",
       "    </tr>\n",
       "    <tr>\n",
       "      <th>2023-12-30 22:00:00</th>\n",
       "      <td>42.2</td>\n",
       "      <td>2023-12-30 22:00:00</td>\n",
       "    </tr>\n",
       "    <tr>\n",
       "      <th>2023-12-30 23:00:00</th>\n",
       "      <td>42.4</td>\n",
       "      <td>2023-12-30 23:00:00</td>\n",
       "    </tr>\n",
       "    <tr>\n",
       "      <th>2023-12-31 00:00:00</th>\n",
       "      <td>42.1</td>\n",
       "      <td>2023-12-31 00:00:00</td>\n",
       "    </tr>\n",
       "  </tbody>\n",
       "</table>\n",
       "<p>108043 rows × 2 columns</p>\n",
       "</div>"
      ],
      "text/plain": [
       "                     O3_ppb            datetime\n",
       "datetime                                       \n",
       "2011-01-01 00:00:00    46.2 2011-01-01 00:00:00\n",
       "2011-01-01 01:00:00    46.1 2011-01-01 01:00:00\n",
       "2011-01-01 02:00:00    46.3 2011-01-01 02:00:00\n",
       "2011-01-01 03:00:00    45.7 2011-01-01 03:00:00\n",
       "2011-01-01 04:00:00    45.6 2011-01-01 04:00:00\n",
       "...                     ...                 ...\n",
       "2023-12-30 20:00:00    42.3 2023-12-30 20:00:00\n",
       "2023-12-30 21:00:00    41.9 2023-12-30 21:00:00\n",
       "2023-12-30 22:00:00    42.2 2023-12-30 22:00:00\n",
       "2023-12-30 23:00:00    42.4 2023-12-30 23:00:00\n",
       "2023-12-31 00:00:00    42.1 2023-12-31 00:00:00\n",
       "\n",
       "[108043 rows x 2 columns]"
      ]
     },
     "execution_count": 62,
     "metadata": {},
     "output_type": "execute_result"
    }
   ],
   "source": [
    "#loop for rounding to the hours\n",
    "o3_df[\"starttime_dt\"] = [i.round(\"h\") for i in o3_df[\"starttime_dt\"]]\n",
    "o3_df[\"datetime\"]=o3_df[\"starttime_dt\"]\n",
    "o3_df = o3_df.drop(columns=[\"starttime_dt\"])\n",
    "o3_df.index = o3_df[\"datetime\"]\n",
    "o3_df"
   ]
  },
  {
   "cell_type": "code",
   "execution_count": 63,
   "metadata": {},
   "outputs": [
    {
     "data": {
      "text/html": [
       "<div>\n",
       "<style scoped>\n",
       "    .dataframe tbody tr th:only-of-type {\n",
       "        vertical-align: middle;\n",
       "    }\n",
       "\n",
       "    .dataframe tbody tr th {\n",
       "        vertical-align: top;\n",
       "    }\n",
       "\n",
       "    .dataframe thead th {\n",
       "        text-align: right;\n",
       "    }\n",
       "</style>\n",
       "<table border=\"1\" class=\"dataframe\">\n",
       "  <thead>\n",
       "    <tr style=\"text-align: right;\">\n",
       "      <th></th>\n",
       "      <th>O3_ppb</th>\n",
       "    </tr>\n",
       "    <tr>\n",
       "      <th>datetime</th>\n",
       "      <th></th>\n",
       "    </tr>\n",
       "  </thead>\n",
       "  <tbody>\n",
       "    <tr>\n",
       "      <th>2011-01-01 00:00:00</th>\n",
       "      <td>46.2</td>\n",
       "    </tr>\n",
       "    <tr>\n",
       "      <th>2011-01-01 01:00:00</th>\n",
       "      <td>46.1</td>\n",
       "    </tr>\n",
       "    <tr>\n",
       "      <th>2011-01-01 02:00:00</th>\n",
       "      <td>46.3</td>\n",
       "    </tr>\n",
       "    <tr>\n",
       "      <th>2011-01-01 03:00:00</th>\n",
       "      <td>45.7</td>\n",
       "    </tr>\n",
       "    <tr>\n",
       "      <th>2011-01-01 04:00:00</th>\n",
       "      <td>45.6</td>\n",
       "    </tr>\n",
       "  </tbody>\n",
       "</table>\n",
       "</div>"
      ],
      "text/plain": [
       "                     O3_ppb\n",
       "datetime                   \n",
       "2011-01-01 00:00:00    46.2\n",
       "2011-01-01 01:00:00    46.1\n",
       "2011-01-01 02:00:00    46.3\n",
       "2011-01-01 03:00:00    45.7\n",
       "2011-01-01 04:00:00    45.6"
      ]
     },
     "execution_count": 63,
     "metadata": {},
     "output_type": "execute_result"
    }
   ],
   "source": [
    "# Reset index and reformat DataFrame\n",
    "\n",
    "o3_df = o3_df.drop(columns=[\"datetime\"])\n",
    "o3_df.head()"
   ]
  },
  {
   "cell_type": "code",
   "execution_count": 64,
   "metadata": {},
   "outputs": [
    {
     "name": "stdout",
     "output_type": "stream",
     "text": [
      "Saved final data to: C:\\YEAR1\\NMVOC\\Data\\processed_O3.csv\n"
     ]
    }
   ],
   "source": [
    "save_dir=\"C:\\\\YEAR1\\\\NMVOC\\\\Data\\\\\" \n",
    "\n",
    "# Save final  DataFrame\n",
    "output_file = os.path.join(save_dir, \"processed_O3.csv\")\n",
    "o3_df.to_csv(output_file, index=True)\n",
    "\n",
    "print(f\"Saved final data to: {output_file}\")"
   ]
  },
  {
   "cell_type": "code",
   "execution_count": null,
   "metadata": {},
   "outputs": [],
   "source": [
    "o3_df.head(50)"
   ]
  },
  {
   "cell_type": "code",
   "execution_count": 65,
   "metadata": {},
   "outputs": [
    {
     "data": {
      "image/png": "[encoded data removed]",
      "text/plain": [
       "<Figure size 640x480 with 1 Axes>"
      ]
     },
     "metadata": {},
     "output_type": "display_data"
    }
   ],
   "source": [
    "o3_df.plot()\n",
    "\n",
    "plt.show()"
   ]
  }
 ],
 "metadata": {
  "kernelspec": {
   "display_name": "penv",
   "language": "python",
   "name": "python3"
  },
  "language_info": {
   "codemirror_mode": {
    "name": "ipython",
    "version": 3
   },
   "file_extension": ".py",
   "mimetype": "text/x-python",
   "name": "python",
   "nbconvert_exporter": "python",
   "pygments_lexer": "ipython3",
   "version": "3.12.5"
  }
 },
 "nbformat": 4,
 "nbformat_minor": 2
}
